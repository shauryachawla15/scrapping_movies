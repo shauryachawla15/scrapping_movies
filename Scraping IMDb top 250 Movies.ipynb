{
 "cells": [
  {
   "cell_type": "code",
   "execution_count": null,
   "id": "cb42d8d6",
   "metadata": {},
   "outputs": [],
   "source": [
    "import bs4\n",
    "import requests"
   ]
  },
  {
   "cell_type": "code",
   "execution_count": null,
   "id": "25210d6d",
   "metadata": {},
   "outputs": [],
   "source": [
    "url=\"https://www.imdb.com/chart/top/\""
   ]
  },
  {
   "cell_type": "code",
   "execution_count": null,
   "id": "b76e71a8",
   "metadata": {},
   "outputs": [],
   "source": [
    "res=requests.get(url)\n",
    "print(res)"
   ]
  },
  {
   "cell_type": "code",
   "execution_count": null,
   "id": "c999c4fb",
   "metadata": {},
   "outputs": [],
   "source": [
    "imdb=bs4.BeautifulSoup(res.content,\"html.parser\")\n",
    "print(imdb.prettify())"
   ]
  },
  {
   "cell_type": "markdown",
   "id": "e7a15261",
   "metadata": {},
   "source": [
    "# Find title of Movie"
   ]
  },
  {
   "cell_type": "markdown",
   "id": "a3685d3c",
   "metadata": {},
   "source": [
    "find(name,attrs={})\n",
    "\n",
    "look in the children of this PageElement and find PageElement that matches the given criteria"
   ]
  },
  {
   "cell_type": "code",
   "execution_count": null,
   "id": "0c738336",
   "metadata": {},
   "outputs": [],
   "source": [
    "# attrs=attribute\n",
    "# mt=movie title\n",
    "\n",
    "mt=imdb.find(\"td\",attrs={\"class\":\"titleColumn\"})\n",
    "print(mt)"
   ]
  },
  {
   "cell_type": "code",
   "execution_count": null,
   "id": "7f2c0814",
   "metadata": {},
   "outputs": [],
   "source": [
    "print(mt.a)\n",
    "print(mt.span)"
   ]
  },
  {
   "cell_type": "code",
   "execution_count": null,
   "id": "ce1a4375",
   "metadata": {},
   "outputs": [],
   "source": [
    "print(mt.a.text)"
   ]
  },
  {
   "cell_type": "code",
   "execution_count": null,
   "id": "f5b13ea9",
   "metadata": {},
   "outputs": [],
   "source": [
    "MovieName=mt.a.get(\"title\")\n",
    "print(MovieName)\n",
    "MovieLink=mt.a.get(\"href\")\n",
    "print(MovieLink)"
   ]
  },
  {
   "cell_type": "code",
   "execution_count": null,
   "id": "79f543e0",
   "metadata": {},
   "outputs": [],
   "source": [
    "MovieYear=mt.span.text\n",
    "print(MovieYear)"
   ]
  },
  {
   "cell_type": "code",
   "execution_count": null,
   "id": "65148894",
   "metadata": {},
   "outputs": [],
   "source": [
    "print(mt)\n",
    "print(mt.text)\n",
    "type(mt.text)"
   ]
  },
  {
   "cell_type": "code",
   "execution_count": null,
   "id": "2f471893",
   "metadata": {},
   "outputs": [],
   "source": [
    "print(mt.text)\n",
    "print(\"_____________________________\")\n",
    "print(mt.text.strip())\n",
    "print(type(mt.text.strip()))"
   ]
  },
  {
   "cell_type": "code",
   "execution_count": null,
   "id": "babe2eb0",
   "metadata": {},
   "outputs": [],
   "source": [
    "print(mt.text.strip()[:3])"
   ]
  },
  {
   "cell_type": "code",
   "execution_count": null,
   "id": "fc5fb9bf",
   "metadata": {},
   "outputs": [],
   "source": [
    "ImdbRating=imdb.find(\"td\",attrs={\"class\":\"ratingColumn imdbRating\"})\n",
    "print(ImdbRating)\n",
    "print(ImdbRating.strong.text)\n",
    "print(ImdbRating.strong.get(\"title\"))"
   ]
  },
  {
   "cell_type": "code",
   "execution_count": null,
   "id": "83951ef0",
   "metadata": {},
   "outputs": [],
   "source": [
    "NoOfUsers=ImdbRating.strong.get(\"title\")[13:22]\n",
    "NoOfUsers"
   ]
  },
  {
   "cell_type": "code",
   "execution_count": null,
   "id": "13cf19d0",
   "metadata": {},
   "outputs": [],
   "source": [
    "title=[]\n",
    "Ranks=[]\n",
    "Name=[]\n",
    "Year=[]\n",
    "\n",
    "for i in imdb.find_all(\"td\",attrs={\"class\":\"titleColumn\"}):\n",
    "    title.append(i.a.text)\n",
    "    \n",
    "    Ranks.append(i.text.strip()[:3])\n",
    "    Name.append(i.a.get(\"title\"))\n",
    "    Year.append(i.span.text)\n",
    "    \n",
    "    "
   ]
  },
  {
   "cell_type": "code",
   "execution_count": null,
   "id": "0690b593",
   "metadata": {},
   "outputs": [],
   "source": [
    "print(len(title))\n",
    "print(len(Ranks))\n",
    "print(len(Name))\n",
    "print(len(Year))"
   ]
  },
  {
   "cell_type": "code",
   "execution_count": null,
   "id": "56b0ef8d",
   "metadata": {},
   "outputs": [],
   "source": [
    "rating=[]\n",
    "UserRated=[]\n",
    "for i in imdb.find_all(\"td\",{\"class\":\"ratingColumn imdbRating\"}):\n",
    "    rating.append(i.strong.text)\n",
    "    UserRated.append(i.strong.get(\"title\")[13:22])"
   ]
  },
  {
   "cell_type": "code",
   "execution_count": null,
   "id": "86622a7c",
   "metadata": {},
   "outputs": [],
   "source": [
    "print(len(rating))\n",
    "print(len(UserRated))"
   ]
  },
  {
   "cell_type": "code",
   "execution_count": null,
   "id": "43cd5040",
   "metadata": {},
   "outputs": [],
   "source": [
    "import pandas as pd"
   ]
  },
  {
   "cell_type": "code",
   "execution_count": null,
   "id": "00cadb9e",
   "metadata": {},
   "outputs": [],
   "source": [
    "ImdbTop250Movies=pd.DataFrame({\"Title\":title,\"Year\":Year,\"Rank\":Ranks,\"ActorName\":Name,\"Rating\":rating,\"UserVoted\":UserRated})\n",
    "ImdbTop250Movies"
   ]
  },
  {
   "cell_type": "code",
   "execution_count": null,
   "id": "68b827e5",
   "metadata": {},
   "outputs": [],
   "source": [
    "ImdbTop250Movies.shape"
   ]
  },
  {
   "cell_type": "code",
   "execution_count": null,
   "id": "4fde8ab8",
   "metadata": {},
   "outputs": [],
   "source": [
    "ImdbTop250Movies[\"Rank\"]=ImdbTop250Movies[\"Rank\"].str.replace(\".\\n\",\"\",regex=True)\n",
    "ImdbTop250Movies"
   ]
  },
  {
   "cell_type": "code",
   "execution_count": null,
   "id": "e1ace495",
   "metadata": {},
   "outputs": [],
   "source": [
    "ImdbTop250Movies[\"UserVoted\"]=ImdbTop250Movies[\"UserVoted\"].str.replace(\",\",\"\")\n",
    "ImdbTop250Movies"
   ]
  },
  {
   "cell_type": "code",
   "execution_count": null,
   "id": "2ebf8d2f",
   "metadata": {},
   "outputs": [],
   "source": [
    "ImdbTop250Movies[\"UserVoted\"]=ImdbTop250Movies[\"UserVoted\"].str.replace(\"us\",\"\").str.replace(\"u\",\"\")\n",
    "ImdbTop250Movies"
   ]
  },
  {
   "cell_type": "code",
   "execution_count": null,
   "id": "41fbfaab",
   "metadata": {},
   "outputs": [],
   "source": [
    "ImdbTop250Movies[\"Year\"]=ImdbTop250Movies[\"Year\"].str.replace(\"(\",\"\").str.replace(\")\",\"\",regex=True)\n",
    "ImdbTop250Movies"
   ]
  },
  {
   "cell_type": "code",
   "execution_count": null,
   "id": "625ee7db",
   "metadata": {},
   "outputs": [],
   "source": [
    "ImdbTop250Movies.to_csv(\"IMDbTop250Movies.csv\",index=False)\n",
    "#ImdbTop250Movies.to_excel(\"IMDbTop250Movies.xslx\",index=False)"
   ]
  },
  {
   "cell_type": "code",
   "execution_count": null,
   "id": "96759689",
   "metadata": {},
   "outputs": [],
   "source": [
    "df=pd.read_csv(\"IMDbTop250Movies.csv\")\n",
    "#df=pd.read_excel(\"IMDbTop250Movies.xlsx\")"
   ]
  },
  {
   "cell_type": "code",
   "execution_count": null,
   "id": "5a38ce4a",
   "metadata": {},
   "outputs": [],
   "source": [
    "df.dtypes"
   ]
  }
 ],
 "metadata": {
  "kernelspec": {
   "display_name": "Python 3 (ipykernel)",
   "language": "python",
   "name": "python3"
  },
  "language_info": {
   "codemirror_mode": {
    "name": "ipython",
    "version": 3
   },
   "file_extension": ".py",
   "mimetype": "text/x-python",
   "name": "python",
   "nbconvert_exporter": "python",
   "pygments_lexer": "ipython3",
   "version": "3.9.13"
  }
 },
 "nbformat": 4,
 "nbformat_minor": 5
}
